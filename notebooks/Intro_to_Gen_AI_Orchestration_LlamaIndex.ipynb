{
  "nbformat": 4,
  "nbformat_minor": 0,
  "metadata": {
    "colab": {
      "provenance": []
    },
    "kernelspec": {
      "name": "python3",
      "display_name": "Python 3"
    },
    "language_info": {
      "name": "python"
    },
    "widgets": {
      "application/vnd.jupyter.widget-state+json": {
        "01ac641862a045ed9621f7b2478d8579": {
          "model_module": "@jupyter-widgets/controls",
          "model_name": "HBoxModel",
          "model_module_version": "1.5.0",
          "state": {
            "_dom_classes": [],
            "_model_module": "@jupyter-widgets/controls",
            "_model_module_version": "1.5.0",
            "_model_name": "HBoxModel",
            "_view_count": null,
            "_view_module": "@jupyter-widgets/controls",
            "_view_module_version": "1.5.0",
            "_view_name": "HBoxView",
            "box_style": "",
            "children": [
              "IPY_MODEL_3c562e3b32ef4386a30b8e2b99b22b0e",
              "IPY_MODEL_64f856bcf3514f33b982e02f07c563e6",
              "IPY_MODEL_fc3a350ccf76405787bf66effb3b0072"
            ],
            "layout": "IPY_MODEL_20cfaa7706b048d09078cffca1e482bc"
          }
        },
        "3c562e3b32ef4386a30b8e2b99b22b0e": {
          "model_module": "@jupyter-widgets/controls",
          "model_name": "HTMLModel",
          "model_module_version": "1.5.0",
          "state": {
            "_dom_classes": [],
            "_model_module": "@jupyter-widgets/controls",
            "_model_module_version": "1.5.0",
            "_model_name": "HTMLModel",
            "_view_count": null,
            "_view_module": "@jupyter-widgets/controls",
            "_view_module_version": "1.5.0",
            "_view_name": "HTMLView",
            "description": "",
            "description_tooltip": null,
            "layout": "IPY_MODEL_6215e9779e5e4255bd79728b83ae9fc7",
            "placeholder": "​",
            "style": "IPY_MODEL_99bda20b37fc4e8284ae212f4ccdaf53",
            "value": "Parsing nodes: 100%"
          }
        },
        "64f856bcf3514f33b982e02f07c563e6": {
          "model_module": "@jupyter-widgets/controls",
          "model_name": "FloatProgressModel",
          "model_module_version": "1.5.0",
          "state": {
            "_dom_classes": [],
            "_model_module": "@jupyter-widgets/controls",
            "_model_module_version": "1.5.0",
            "_model_name": "FloatProgressModel",
            "_view_count": null,
            "_view_module": "@jupyter-widgets/controls",
            "_view_module_version": "1.5.0",
            "_view_name": "ProgressView",
            "bar_style": "success",
            "description": "",
            "description_tooltip": null,
            "layout": "IPY_MODEL_207ad663f76049e5bcaf4d72669eb0e1",
            "max": 17,
            "min": 0,
            "orientation": "horizontal",
            "style": "IPY_MODEL_626a8a38910f46e18a576468b8d760c8",
            "value": 17
          }
        },
        "fc3a350ccf76405787bf66effb3b0072": {
          "model_module": "@jupyter-widgets/controls",
          "model_name": "HTMLModel",
          "model_module_version": "1.5.0",
          "state": {
            "_dom_classes": [],
            "_model_module": "@jupyter-widgets/controls",
            "_model_module_version": "1.5.0",
            "_model_name": "HTMLModel",
            "_view_count": null,
            "_view_module": "@jupyter-widgets/controls",
            "_view_module_version": "1.5.0",
            "_view_name": "HTMLView",
            "description": "",
            "description_tooltip": null,
            "layout": "IPY_MODEL_e1a6b9d1f2c842228950ff1cbc539a10",
            "placeholder": "​",
            "style": "IPY_MODEL_a7060c33b89f48608b8605db102b2a92",
            "value": " 17/17 [00:00&lt;00:00, 243.44it/s]"
          }
        },
        "20cfaa7706b048d09078cffca1e482bc": {
          "model_module": "@jupyter-widgets/base",
          "model_name": "LayoutModel",
          "model_module_version": "1.2.0",
          "state": {
            "_model_module": "@jupyter-widgets/base",
            "_model_module_version": "1.2.0",
            "_model_name": "LayoutModel",
            "_view_count": null,
            "_view_module": "@jupyter-widgets/base",
            "_view_module_version": "1.2.0",
            "_view_name": "LayoutView",
            "align_content": null,
            "align_items": null,
            "align_self": null,
            "border": null,
            "bottom": null,
            "display": null,
            "flex": null,
            "flex_flow": null,
            "grid_area": null,
            "grid_auto_columns": null,
            "grid_auto_flow": null,
            "grid_auto_rows": null,
            "grid_column": null,
            "grid_gap": null,
            "grid_row": null,
            "grid_template_areas": null,
            "grid_template_columns": null,
            "grid_template_rows": null,
            "height": null,
            "justify_content": null,
            "justify_items": null,
            "left": null,
            "margin": null,
            "max_height": null,
            "max_width": null,
            "min_height": null,
            "min_width": null,
            "object_fit": null,
            "object_position": null,
            "order": null,
            "overflow": null,
            "overflow_x": null,
            "overflow_y": null,
            "padding": null,
            "right": null,
            "top": null,
            "visibility": null,
            "width": null
          }
        },
        "6215e9779e5e4255bd79728b83ae9fc7": {
          "model_module": "@jupyter-widgets/base",
          "model_name": "LayoutModel",
          "model_module_version": "1.2.0",
          "state": {
            "_model_module": "@jupyter-widgets/base",
            "_model_module_version": "1.2.0",
            "_model_name": "LayoutModel",
            "_view_count": null,
            "_view_module": "@jupyter-widgets/base",
            "_view_module_version": "1.2.0",
            "_view_name": "LayoutView",
            "align_content": null,
            "align_items": null,
            "align_self": null,
            "border": null,
            "bottom": null,
            "display": null,
            "flex": null,
            "flex_flow": null,
            "grid_area": null,
            "grid_auto_columns": null,
            "grid_auto_flow": null,
            "grid_auto_rows": null,
            "grid_column": null,
            "grid_gap": null,
            "grid_row": null,
            "grid_template_areas": null,
            "grid_template_columns": null,
            "grid_template_rows": null,
            "height": null,
            "justify_content": null,
            "justify_items": null,
            "left": null,
            "margin": null,
            "max_height": null,
            "max_width": null,
            "min_height": null,
            "min_width": null,
            "object_fit": null,
            "object_position": null,
            "order": null,
            "overflow": null,
            "overflow_x": null,
            "overflow_y": null,
            "padding": null,
            "right": null,
            "top": null,
            "visibility": null,
            "width": null
          }
        },
        "99bda20b37fc4e8284ae212f4ccdaf53": {
          "model_module": "@jupyter-widgets/controls",
          "model_name": "DescriptionStyleModel",
          "model_module_version": "1.5.0",
          "state": {
            "_model_module": "@jupyter-widgets/controls",
            "_model_module_version": "1.5.0",
            "_model_name": "DescriptionStyleModel",
            "_view_count": null,
            "_view_module": "@jupyter-widgets/base",
            "_view_module_version": "1.2.0",
            "_view_name": "StyleView",
            "description_width": ""
          }
        },
        "207ad663f76049e5bcaf4d72669eb0e1": {
          "model_module": "@jupyter-widgets/base",
          "model_name": "LayoutModel",
          "model_module_version": "1.2.0",
          "state": {
            "_model_module": "@jupyter-widgets/base",
            "_model_module_version": "1.2.0",
            "_model_name": "LayoutModel",
            "_view_count": null,
            "_view_module": "@jupyter-widgets/base",
            "_view_module_version": "1.2.0",
            "_view_name": "LayoutView",
            "align_content": null,
            "align_items": null,
            "align_self": null,
            "border": null,
            "bottom": null,
            "display": null,
            "flex": null,
            "flex_flow": null,
            "grid_area": null,
            "grid_auto_columns": null,
            "grid_auto_flow": null,
            "grid_auto_rows": null,
            "grid_column": null,
            "grid_gap": null,
            "grid_row": null,
            "grid_template_areas": null,
            "grid_template_columns": null,
            "grid_template_rows": null,
            "height": null,
            "justify_content": null,
            "justify_items": null,
            "left": null,
            "margin": null,
            "max_height": null,
            "max_width": null,
            "min_height": null,
            "min_width": null,
            "object_fit": null,
            "object_position": null,
            "order": null,
            "overflow": null,
            "overflow_x": null,
            "overflow_y": null,
            "padding": null,
            "right": null,
            "top": null,
            "visibility": null,
            "width": null
          }
        },
        "626a8a38910f46e18a576468b8d760c8": {
          "model_module": "@jupyter-widgets/controls",
          "model_name": "ProgressStyleModel",
          "model_module_version": "1.5.0",
          "state": {
            "_model_module": "@jupyter-widgets/controls",
            "_model_module_version": "1.5.0",
            "_model_name": "ProgressStyleModel",
            "_view_count": null,
            "_view_module": "@jupyter-widgets/base",
            "_view_module_version": "1.2.0",
            "_view_name": "StyleView",
            "bar_color": null,
            "description_width": ""
          }
        },
        "e1a6b9d1f2c842228950ff1cbc539a10": {
          "model_module": "@jupyter-widgets/base",
          "model_name": "LayoutModel",
          "model_module_version": "1.2.0",
          "state": {
            "_model_module": "@jupyter-widgets/base",
            "_model_module_version": "1.2.0",
            "_model_name": "LayoutModel",
            "_view_count": null,
            "_view_module": "@jupyter-widgets/base",
            "_view_module_version": "1.2.0",
            "_view_name": "LayoutView",
            "align_content": null,
            "align_items": null,
            "align_self": null,
            "border": null,
            "bottom": null,
            "display": null,
            "flex": null,
            "flex_flow": null,
            "grid_area": null,
            "grid_auto_columns": null,
            "grid_auto_flow": null,
            "grid_auto_rows": null,
            "grid_column": null,
            "grid_gap": null,
            "grid_row": null,
            "grid_template_areas": null,
            "grid_template_columns": null,
            "grid_template_rows": null,
            "height": null,
            "justify_content": null,
            "justify_items": null,
            "left": null,
            "margin": null,
            "max_height": null,
            "max_width": null,
            "min_height": null,
            "min_width": null,
            "object_fit": null,
            "object_position": null,
            "order": null,
            "overflow": null,
            "overflow_x": null,
            "overflow_y": null,
            "padding": null,
            "right": null,
            "top": null,
            "visibility": null,
            "width": null
          }
        },
        "a7060c33b89f48608b8605db102b2a92": {
          "model_module": "@jupyter-widgets/controls",
          "model_name": "DescriptionStyleModel",
          "model_module_version": "1.5.0",
          "state": {
            "_model_module": "@jupyter-widgets/controls",
            "_model_module_version": "1.5.0",
            "_model_name": "DescriptionStyleModel",
            "_view_count": null,
            "_view_module": "@jupyter-widgets/base",
            "_view_module_version": "1.2.0",
            "_view_name": "StyleView",
            "description_width": ""
          }
        },
        "29e691d8f96e47568ba1da1684be67c4": {
          "model_module": "@jupyter-widgets/controls",
          "model_name": "HBoxModel",
          "model_module_version": "1.5.0",
          "state": {
            "_dom_classes": [],
            "_model_module": "@jupyter-widgets/controls",
            "_model_module_version": "1.5.0",
            "_model_name": "HBoxModel",
            "_view_count": null,
            "_view_module": "@jupyter-widgets/controls",
            "_view_module_version": "1.5.0",
            "_view_name": "HBoxView",
            "box_style": "",
            "children": [
              "IPY_MODEL_39d1e4b078ca42d2b2020503e139b6f5",
              "IPY_MODEL_576a974bed2d4e8692a5ed470308b98e",
              "IPY_MODEL_2cf3da57371a4f42a08db8b58967dbd3"
            ],
            "layout": "IPY_MODEL_532241a85a0844259c76590bb01fe694"
          }
        },
        "39d1e4b078ca42d2b2020503e139b6f5": {
          "model_module": "@jupyter-widgets/controls",
          "model_name": "HTMLModel",
          "model_module_version": "1.5.0",
          "state": {
            "_dom_classes": [],
            "_model_module": "@jupyter-widgets/controls",
            "_model_module_version": "1.5.0",
            "_model_name": "HTMLModel",
            "_view_count": null,
            "_view_module": "@jupyter-widgets/controls",
            "_view_module_version": "1.5.0",
            "_view_name": "HTMLView",
            "description": "",
            "description_tooltip": null,
            "layout": "IPY_MODEL_9be0b46eca7346b3b6db53301df4a073",
            "placeholder": "​",
            "style": "IPY_MODEL_b73bf0293d8c4fd4bc0d3f885f066737",
            "value": "Generating embeddings: 100%"
          }
        },
        "576a974bed2d4e8692a5ed470308b98e": {
          "model_module": "@jupyter-widgets/controls",
          "model_name": "FloatProgressModel",
          "model_module_version": "1.5.0",
          "state": {
            "_dom_classes": [],
            "_model_module": "@jupyter-widgets/controls",
            "_model_module_version": "1.5.0",
            "_model_name": "FloatProgressModel",
            "_view_count": null,
            "_view_module": "@jupyter-widgets/controls",
            "_view_module_version": "1.5.0",
            "_view_name": "ProgressView",
            "bar_style": "success",
            "description": "",
            "description_tooltip": null,
            "layout": "IPY_MODEL_6487002328b74db2899d09ffb209dfe1",
            "max": 17,
            "min": 0,
            "orientation": "horizontal",
            "style": "IPY_MODEL_b14a955a463e4507b61498d7051e1a87",
            "value": 17
          }
        },
        "2cf3da57371a4f42a08db8b58967dbd3": {
          "model_module": "@jupyter-widgets/controls",
          "model_name": "HTMLModel",
          "model_module_version": "1.5.0",
          "state": {
            "_dom_classes": [],
            "_model_module": "@jupyter-widgets/controls",
            "_model_module_version": "1.5.0",
            "_model_name": "HTMLModel",
            "_view_count": null,
            "_view_module": "@jupyter-widgets/controls",
            "_view_module_version": "1.5.0",
            "_view_name": "HTMLView",
            "description": "",
            "description_tooltip": null,
            "layout": "IPY_MODEL_1e9e5a619a0b44f6baadd97d0e28cf4b",
            "placeholder": "​",
            "style": "IPY_MODEL_5bfabff2a52d482fa0a2d8ace0466eb0",
            "value": " 17/17 [00:01&lt;00:00,  9.86it/s]"
          }
        },
        "532241a85a0844259c76590bb01fe694": {
          "model_module": "@jupyter-widgets/base",
          "model_name": "LayoutModel",
          "model_module_version": "1.2.0",
          "state": {
            "_model_module": "@jupyter-widgets/base",
            "_model_module_version": "1.2.0",
            "_model_name": "LayoutModel",
            "_view_count": null,
            "_view_module": "@jupyter-widgets/base",
            "_view_module_version": "1.2.0",
            "_view_name": "LayoutView",
            "align_content": null,
            "align_items": null,
            "align_self": null,
            "border": null,
            "bottom": null,
            "display": null,
            "flex": null,
            "flex_flow": null,
            "grid_area": null,
            "grid_auto_columns": null,
            "grid_auto_flow": null,
            "grid_auto_rows": null,
            "grid_column": null,
            "grid_gap": null,
            "grid_row": null,
            "grid_template_areas": null,
            "grid_template_columns": null,
            "grid_template_rows": null,
            "height": null,
            "justify_content": null,
            "justify_items": null,
            "left": null,
            "margin": null,
            "max_height": null,
            "max_width": null,
            "min_height": null,
            "min_width": null,
            "object_fit": null,
            "object_position": null,
            "order": null,
            "overflow": null,
            "overflow_x": null,
            "overflow_y": null,
            "padding": null,
            "right": null,
            "top": null,
            "visibility": null,
            "width": null
          }
        },
        "9be0b46eca7346b3b6db53301df4a073": {
          "model_module": "@jupyter-widgets/base",
          "model_name": "LayoutModel",
          "model_module_version": "1.2.0",
          "state": {
            "_model_module": "@jupyter-widgets/base",
            "_model_module_version": "1.2.0",
            "_model_name": "LayoutModel",
            "_view_count": null,
            "_view_module": "@jupyter-widgets/base",
            "_view_module_version": "1.2.0",
            "_view_name": "LayoutView",
            "align_content": null,
            "align_items": null,
            "align_self": null,
            "border": null,
            "bottom": null,
            "display": null,
            "flex": null,
            "flex_flow": null,
            "grid_area": null,
            "grid_auto_columns": null,
            "grid_auto_flow": null,
            "grid_auto_rows": null,
            "grid_column": null,
            "grid_gap": null,
            "grid_row": null,
            "grid_template_areas": null,
            "grid_template_columns": null,
            "grid_template_rows": null,
            "height": null,
            "justify_content": null,
            "justify_items": null,
            "left": null,
            "margin": null,
            "max_height": null,
            "max_width": null,
            "min_height": null,
            "min_width": null,
            "object_fit": null,
            "object_position": null,
            "order": null,
            "overflow": null,
            "overflow_x": null,
            "overflow_y": null,
            "padding": null,
            "right": null,
            "top": null,
            "visibility": null,
            "width": null
          }
        },
        "b73bf0293d8c4fd4bc0d3f885f066737": {
          "model_module": "@jupyter-widgets/controls",
          "model_name": "DescriptionStyleModel",
          "model_module_version": "1.5.0",
          "state": {
            "_model_module": "@jupyter-widgets/controls",
            "_model_module_version": "1.5.0",
            "_model_name": "DescriptionStyleModel",
            "_view_count": null,
            "_view_module": "@jupyter-widgets/base",
            "_view_module_version": "1.2.0",
            "_view_name": "StyleView",
            "description_width": ""
          }
        },
        "6487002328b74db2899d09ffb209dfe1": {
          "model_module": "@jupyter-widgets/base",
          "model_name": "LayoutModel",
          "model_module_version": "1.2.0",
          "state": {
            "_model_module": "@jupyter-widgets/base",
            "_model_module_version": "1.2.0",
            "_model_name": "LayoutModel",
            "_view_count": null,
            "_view_module": "@jupyter-widgets/base",
            "_view_module_version": "1.2.0",
            "_view_name": "LayoutView",
            "align_content": null,
            "align_items": null,
            "align_self": null,
            "border": null,
            "bottom": null,
            "display": null,
            "flex": null,
            "flex_flow": null,
            "grid_area": null,
            "grid_auto_columns": null,
            "grid_auto_flow": null,
            "grid_auto_rows": null,
            "grid_column": null,
            "grid_gap": null,
            "grid_row": null,
            "grid_template_areas": null,
            "grid_template_columns": null,
            "grid_template_rows": null,
            "height": null,
            "justify_content": null,
            "justify_items": null,
            "left": null,
            "margin": null,
            "max_height": null,
            "max_width": null,
            "min_height": null,
            "min_width": null,
            "object_fit": null,
            "object_position": null,
            "order": null,
            "overflow": null,
            "overflow_x": null,
            "overflow_y": null,
            "padding": null,
            "right": null,
            "top": null,
            "visibility": null,
            "width": null
          }
        },
        "b14a955a463e4507b61498d7051e1a87": {
          "model_module": "@jupyter-widgets/controls",
          "model_name": "ProgressStyleModel",
          "model_module_version": "1.5.0",
          "state": {
            "_model_module": "@jupyter-widgets/controls",
            "_model_module_version": "1.5.0",
            "_model_name": "ProgressStyleModel",
            "_view_count": null,
            "_view_module": "@jupyter-widgets/base",
            "_view_module_version": "1.2.0",
            "_view_name": "StyleView",
            "bar_color": null,
            "description_width": ""
          }
        },
        "1e9e5a619a0b44f6baadd97d0e28cf4b": {
          "model_module": "@jupyter-widgets/base",
          "model_name": "LayoutModel",
          "model_module_version": "1.2.0",
          "state": {
            "_model_module": "@jupyter-widgets/base",
            "_model_module_version": "1.2.0",
            "_model_name": "LayoutModel",
            "_view_count": null,
            "_view_module": "@jupyter-widgets/base",
            "_view_module_version": "1.2.0",
            "_view_name": "LayoutView",
            "align_content": null,
            "align_items": null,
            "align_self": null,
            "border": null,
            "bottom": null,
            "display": null,
            "flex": null,
            "flex_flow": null,
            "grid_area": null,
            "grid_auto_columns": null,
            "grid_auto_flow": null,
            "grid_auto_rows": null,
            "grid_column": null,
            "grid_gap": null,
            "grid_row": null,
            "grid_template_areas": null,
            "grid_template_columns": null,
            "grid_template_rows": null,
            "height": null,
            "justify_content": null,
            "justify_items": null,
            "left": null,
            "margin": null,
            "max_height": null,
            "max_width": null,
            "min_height": null,
            "min_width": null,
            "object_fit": null,
            "object_position": null,
            "order": null,
            "overflow": null,
            "overflow_x": null,
            "overflow_y": null,
            "padding": null,
            "right": null,
            "top": null,
            "visibility": null,
            "width": null
          }
        },
        "5bfabff2a52d482fa0a2d8ace0466eb0": {
          "model_module": "@jupyter-widgets/controls",
          "model_name": "DescriptionStyleModel",
          "model_module_version": "1.5.0",
          "state": {
            "_model_module": "@jupyter-widgets/controls",
            "_model_module_version": "1.5.0",
            "_model_name": "DescriptionStyleModel",
            "_view_count": null,
            "_view_module": "@jupyter-widgets/base",
            "_view_module_version": "1.2.0",
            "_view_name": "StyleView",
            "description_width": ""
          }
        }
      }
    }
  },
  "cells": [
    {
      "cell_type": "markdown",
      "source": [
        "## Install libraries and set up keys"
      ],
      "metadata": {
        "id": "78LkVU3xDP04"
      }
    },
    {
      "cell_type": "code",
      "execution_count": 1,
      "metadata": {
        "id": "7ssQyYC2DFRn"
      },
      "outputs": [],
      "source": [
        "%%capture\n",
        "\n",
        "!pip install llama-index                         # llama-index core\n",
        "!pip install llama-index-llms-openai             # OpenAI bindings\n",
        "!pip install llama-index-llms-anthropic          # Anthropic bindings\n",
        "!pip install llama-index-embeddings-huggingface  # HuggingFace Embeddings\n",
        "!pip install llama-index-tools-google            # Google Search\n",
        "!pip install llama-index-tools-bing-search       # Bing Search\n",
        "!pip install llama-index-tools-wikipedia         # Wikipedia\n",
        "!pip install pip install llama-index-tools-tavily-research # Tavily research API\n",
        "\n",
        "\n",
        "!pip install google-search-results  # Serp API\n",
        "!pip install pypdf                  # Parse PDF docs\n",
        "!pip install sentence_transformers  # Embedding\n",
        "!pip install chromadb               # Vector DB"
      ]
    },
    {
      "cell_type": "code",
      "source": [
        "import os\n",
        "from google.colab import userdata\n",
        "\n",
        "# os.environ['HF_TOKEN'] = userdata.get('HF_TOKEN')\n",
        "# os.environ['SERPAPI_API_KEY'] = userdata.get('SERPAPI_API_KEY')\n",
        "# os.environ['ANTHROPIC_API_KEY'] = userdata.get('ANTHROPIC_API_KEY')\n",
        "os.environ['OPENAI_API_KEY'] = userdata.get('OPENAI_API_KEY')\n",
        "os.environ['BING_API_KEY'] = userdata.get('BING_API_KEY')\n",
        "os.environ['TAVILY_API_KEY'] = userdata.get('TAVILY_API_KEY')"
      ],
      "metadata": {
        "id": "asrRY_gBE-ax"
      },
      "execution_count": 44,
      "outputs": []
    },
    {
      "cell_type": "code",
      "source": [
        "!rm -rf ./repo\n",
        "!git clone --depth 1 https://github.com/adeshmukh/gaiip-intro-orchestration.git ./repo"
      ],
      "metadata": {
        "colab": {
          "base_uri": "https://localhost:8080/"
        },
        "id": "vM29ogypFJNJ",
        "outputId": "e73d4f5b-c1bf-4261-ca1a-54cfdfb99b83"
      },
      "execution_count": 3,
      "outputs": [
        {
          "output_type": "stream",
          "name": "stdout",
          "text": [
            "Cloning into './repo'...\n",
            "remote: Enumerating objects: 16, done.\u001b[K\n",
            "remote: Counting objects: 100% (16/16), done.\u001b[K\n",
            "remote: Compressing objects: 100% (15/15), done.\u001b[K\n",
            "remote: Total 16 (delta 1), reused 13 (delta 1), pack-reused 0\u001b[K\n",
            "Receiving objects: 100% (16/16), 635.09 KiB | 2.04 MiB/s, done.\n",
            "Resolving deltas: 100% (1/1), done.\n"
          ]
        }
      ]
    },
    {
      "cell_type": "markdown",
      "source": [
        "## Load PDFs in Vector DB"
      ],
      "metadata": {
        "id": "WvVhpqT6FO38"
      }
    },
    {
      "cell_type": "code",
      "source": [
        "%%capture\n",
        "\n",
        "from llama_index.core import (\n",
        "    SimpleDirectoryReader,\n",
        "    VectorStoreIndex,\n",
        "    StorageContext,\n",
        "    load_index_from_storage,\n",
        ")\n",
        "from llama_index.core.tools import QueryEngineTool, ToolMetadata\n",
        "\n",
        "# Ignore pypdf warnings\n",
        "import logging\n",
        "logging.getLogger(\"pypdf\").setLevel(logging.ERROR)\n",
        "\n",
        "# load data from PDFs\n",
        "base_path = \"./repo/pdfs\"\n",
        "pdf_files = os.listdir(base_path)\n",
        "pdf_file_paths = [os.path.join(base_path, file) for file in pdf_files]\n",
        "\n",
        "docs = SimpleDirectoryReader(\n",
        "    input_files=pdf_file_paths\n",
        ").load_data()\n"
      ],
      "metadata": {
        "id": "OOHHaX8iX6J7"
      },
      "execution_count": 4,
      "outputs": []
    },
    {
      "cell_type": "code",
      "source": [
        "%%capture\n",
        "\n",
        "# Build the index\n",
        "from llama_index.core import Settings\n",
        "from llama_index.embeddings.openai import OpenAIEmbedding\n",
        "\n",
        "embed_model = OpenAIEmbedding()\n",
        "\n",
        "# Enable below lines for huggingface embedding. Needs HF_API_TOKEN\n",
        "# from llama_index.embeddings.huggingface import HuggingFaceEmbedding\n",
        "# embed_model = HuggingFaceEmbedding(model_name=\"sentence-transformers/all-MiniLM-L6-v2\")\n",
        "# embed_model = HuggingFaceEmbedding(model_name=\"BAAI/bge-small-en-v1.5\")\n",
        "\n",
        "Settings.embed_model = embed_model\n",
        "pdf_index = VectorStoreIndex.from_documents(docs, show_progress=True)\n",
        "\n",
        "# Persist index to local disk\n",
        "pdf_index.storage_context.persist(persist_dir=\"./storage/pdfs\")\n"
      ],
      "metadata": {
        "colab": {
          "base_uri": "https://localhost:8080/",
          "height": 81,
          "referenced_widgets": [
            "01ac641862a045ed9621f7b2478d8579",
            "3c562e3b32ef4386a30b8e2b99b22b0e",
            "64f856bcf3514f33b982e02f07c563e6",
            "fc3a350ccf76405787bf66effb3b0072",
            "20cfaa7706b048d09078cffca1e482bc",
            "6215e9779e5e4255bd79728b83ae9fc7",
            "99bda20b37fc4e8284ae212f4ccdaf53",
            "207ad663f76049e5bcaf4d72669eb0e1",
            "626a8a38910f46e18a576468b8d760c8",
            "e1a6b9d1f2c842228950ff1cbc539a10",
            "a7060c33b89f48608b8605db102b2a92",
            "29e691d8f96e47568ba1da1684be67c4",
            "39d1e4b078ca42d2b2020503e139b6f5",
            "576a974bed2d4e8692a5ed470308b98e",
            "2cf3da57371a4f42a08db8b58967dbd3",
            "532241a85a0844259c76590bb01fe694",
            "9be0b46eca7346b3b6db53301df4a073",
            "b73bf0293d8c4fd4bc0d3f885f066737",
            "6487002328b74db2899d09ffb209dfe1",
            "b14a955a463e4507b61498d7051e1a87",
            "1e9e5a619a0b44f6baadd97d0e28cf4b",
            "5bfabff2a52d482fa0a2d8ace0466eb0"
          ]
        },
        "id": "_dKYBKl4uv48",
        "outputId": "4eef245f-628b-46fa-8800-13e0b8be4829"
      },
      "execution_count": 5,
      "outputs": [
        {
          "output_type": "display_data",
          "data": {
            "text/plain": [
              "Parsing nodes:   0%|          | 0/17 [00:00<?, ?it/s]"
            ],
            "application/vnd.jupyter.widget-view+json": {
              "version_major": 2,
              "version_minor": 0,
              "model_id": "01ac641862a045ed9621f7b2478d8579"
            }
          },
          "metadata": {}
        },
        {
          "output_type": "display_data",
          "data": {
            "text/plain": [
              "Generating embeddings:   0%|          | 0/17 [00:00<?, ?it/s]"
            ],
            "application/vnd.jupyter.widget-view+json": {
              "version_major": 2,
              "version_minor": 0,
              "model_id": "29e691d8f96e47568ba1da1684be67c4"
            }
          },
          "metadata": {}
        }
      ]
    },
    {
      "cell_type": "code",
      "source": [
        "# Wrap the vector DB in a tool\n",
        "pdf_query_engine = pdf_index.as_query_engine(similarity_top_k=3)\n",
        "vector_db_tool = QueryEngineTool(\n",
        "        query_engine=pdf_query_engine,\n",
        "        metadata=ToolMetadata(\n",
        "            name=\"us_national_budget_fy24\",\n",
        "            description=(\n",
        "                \"Provides information about US national budget for the fiscal year 2024. \"\n",
        "                \"Use a detailed plain text question as input to the tool.\"\n",
        "            ),\n",
        "        ),\n",
        "    )"
      ],
      "metadata": {
        "id": "VIXD9YUyYyAK"
      },
      "execution_count": 6,
      "outputs": []
    },
    {
      "cell_type": "markdown",
      "source": [
        "## Zero-shot ReAct agent"
      ],
      "metadata": {
        "id": "h_ZVztUeFmEd"
      }
    },
    {
      "cell_type": "code",
      "source": [
        "from llama_index.core.agent import ReActAgent\n",
        "from llama_index.llms.openai import OpenAI\n",
        "from llama_index.llms.anthropic import Anthropic\n",
        "from llama_index.core.tools import BaseTool, FunctionTool\n",
        "from llama_index.tools.bing_search import BingSearchToolSpec\n",
        "from llama_index.tools.tavily_research import TavilyToolSpec"
      ],
      "metadata": {
        "id": "YSPLUXByFDxy"
      },
      "execution_count": 46,
      "outputs": []
    },
    {
      "cell_type": "markdown",
      "source": [
        "Simple functions that will be used as a tool"
      ],
      "metadata": {
        "id": "wP6yDEa6zSOw"
      }
    },
    {
      "cell_type": "code",
      "source": [
        "from typing import List\n",
        "\n",
        "def multiply(a: float, b: float) -> float:\n",
        "    \"\"\"Multiply two numbers and returns the result number\"\"\"\n",
        "    return a * b\n",
        "\n",
        "def add(a: float, b: float) -> float:\n",
        "    \"\"\"Add two numbers and returns the result number\"\"\"\n",
        "    return a + b\n",
        "\n",
        "def average(a: List[float]) -> float:\n",
        "    \"\"\"Calculates and returns the average of the specified list of numbers\"\"\"\n",
        "    return sum(a) / len(a)"
      ],
      "metadata": {
        "id": "WYKDSkYBT4kt"
      },
      "execution_count": 52,
      "outputs": []
    },
    {
      "cell_type": "code",
      "source": [
        "multiply_tool = FunctionTool.from_defaults(fn=multiply)\n",
        "add_tool = FunctionTool.from_defaults(fn=add)\n",
        "web_search_tool = BingSearchToolSpec(api_key=os.environ['BING_API_KEY']).to_tool_list()[0]\n",
        "tavily_search = TavilyToolSpec(api_key=os.environ['TAVILY_API_KEY']).to_tool_list()[0]\n",
        "\n",
        "# llm = OpenAI(model=\"gpt-3.5-turbo-instruct\")\n",
        "llm = OpenAI(model=\"gpt-3.5-turbo-1106\", temperature=0)\n",
        "# llm = Anthropic(model='claude-3-opus-20240229')\n",
        "\n",
        "agent = ReActAgent.from_tools([multiply_tool, add_tool, vector_db_tool, web_search_tool, tavily_search], llm=llm, verbose=True)"
      ],
      "metadata": {
        "id": "L7ZlHrFpWupC"
      },
      "execution_count": 54,
      "outputs": []
    },
    {
      "cell_type": "markdown",
      "source": [],
      "metadata": {
        "id": "c8nCX5qf3O0p"
      }
    },
    {
      "cell_type": "code",
      "source": [
        "response = agent.chat(\"What is the total requested budget for NASA and NSF for Fiscal Year 2024?\")"
      ],
      "metadata": {
        "colab": {
          "base_uri": "https://localhost:8080/"
        },
        "id": "SJgoOrzpXIUB",
        "outputId": "d4584541-e659-4f95-ecbc-40e2bf3db1ac"
      },
      "execution_count": 24,
      "outputs": [
        {
          "output_type": "stream",
          "name": "stdout",
          "text": [
            "\u001b[1;3;38;5;200mThought: The user is asking for specific budget information for NASA and NSF for Fiscal Year 2024. I can use the \"us_national_budget_fy24\" tool to retrieve this information.\n",
            "Action: us_national_budget_fy24\n",
            "Action Input: {'input': 'What is the total requested budget for NASA and NSF for Fiscal Year 2024?'}\n",
            "\u001b[0m\u001b[1;3;34mObservation: The total requested budget for NASA and NSF for Fiscal Year 2024 is $38.5 billion.\n",
            "\u001b[0m\u001b[1;3;38;5;200mThought: I can answer without using any more tools. I'll use the user's language to answer\n",
            "Answer: The total requested budget for NASA and NSF for Fiscal Year 2024 is $38.5 billion.\n",
            "\u001b[0m"
          ]
        }
      ]
    },
    {
      "cell_type": "code",
      "source": [
        "response = agent.chat(\"Which of the following cities has the least forecasted temperature tomorrow: Chicago, Houston, Jacksonville?\")"
      ],
      "metadata": {
        "colab": {
          "base_uri": "https://localhost:8080/"
        },
        "id": "gviocQiNXSKa",
        "outputId": "029b0690-55e7-4a00-f7e7-d6cc7ba0ea81"
      },
      "execution_count": 49,
      "outputs": [
        {
          "output_type": "stream",
          "name": "stdout",
          "text": [
            "\u001b[1;3;38;5;200mThought: I need to find the forecasted temperatures for Chicago, Houston, and Jacksonville.\n",
            "Action: search\n",
            "Action Input: {'query': 'Chicago weather forecast tomorrow'}\n",
            "\u001b[0m\u001b[1;3;34mObservation: [Document(id_='af768a22-bf1f-4a04-8527-e23323ceb2e3', embedding=None, metadata={'url': 'https://world-weather.info/forecast/usa/chicago/june-2024/'}, excluded_embed_metadata_keys=[], excluded_llm_metadata_keys=[], relationships={}, text='Extended weather forecast in Chicago. Hourly Week 10 days 14 days 30 days Year. Detailed ⚡ Chicago Weather Forecast for June 2024 - day/night 🌡️ temperatures, precipitations - World-Weather.info.', start_char_idx=None, end_char_idx=None, text_template='{metadata_str}\\n\\n{content}', metadata_template='{key}: {value}', metadata_seperator='\\n'), Document(id_='9667b0fc-f7cd-4b85-a00f-cb7b2ecbc750', embedding=None, metadata={'url': 'https://www.weatherapi.com/'}, excluded_embed_metadata_keys=[], excluded_llm_metadata_keys=[], relationships={}, text=\"{'location': {'name': 'Chicago', 'region': 'Illinois', 'country': 'United States of America', 'lat': 41.85, 'lon': -87.65, 'tz_id': 'America/Chicago', 'localtime_epoch': 1718757786, 'localtime': '2024-06-18 19:43'}, 'current': {'last_updated_epoch': 1718757000, 'last_updated': '2024-06-18 19:30', 'temp_c': 32.2, 'temp_f': 90.0, 'is_day': 1, 'condition': {'text': 'Partly cloudy', 'icon': '//cdn.weatherapi.com/weather/64x64/day/116.png', 'code': 1003}, 'wind_mph': 15.0, 'wind_kph': 24.1, 'wind_degree': 210, 'wind_dir': 'SSW', 'pressure_mb': 1015.0, 'pressure_in': 29.98, 'precip_mm': 0.0, 'precip_in': 0.0, 'humidity': 47, 'cloud': 75, 'feelslike_c': 39.8, 'feelslike_f': 103.6, 'windchill_c': 27.2, 'windchill_f': 81.0, 'heatindex_c': 29.3, 'heatindex_f': 84.8, 'dewpoint_c': 20.8, 'dewpoint_f': 69.5, 'vis_km': 16.0, 'vis_miles': 9.0, 'uv': 7.0, 'gust_mph': 21.2, 'gust_kph': 34.2}}\", start_char_idx=None, end_char_idx=None, text_template='{metadata_str}\\n\\n{content}', metadata_template='{key}: {value}', metadata_seperator='\\n'), Document(id_='967b1a80-3ed3-4f4e-b4ca-6df60b2f12e1', embedding=None, metadata={'url': 'https://www.accuweather.com/en/us/chicago/60608/june-weather/348308'}, excluded_embed_metadata_keys=[], excluded_llm_metadata_keys=[], relationships={}, text='Get the monthly weather forecast for Chicago, IL, including daily high/low, historical averages, to help you plan ahead.', start_char_idx=None, end_char_idx=None, text_template='{metadata_str}\\n\\n{content}', metadata_template='{key}: {value}', metadata_seperator='\\n'), Document(id_='bba34812-b8d1-4737-8970-248675194eff', embedding=None, metadata={'url': 'https://www.weathertab.com/en/c/e/06/united-states/illinois/chicago/'}, excluded_embed_metadata_keys=[], excluded_llm_metadata_keys=[], relationships={}, text='Temperature Forecast. Explore comprehensive June 2024 weather forecasts for Chicago, including daily high and low temperatures, precipitation risks, and monthly temperature trends. Featuring detailed day-by-day forecasts, dynamic graphs of daily rain probabilities, and temperature trends to help you plan ahead.', start_char_idx=None, end_char_idx=None, text_template='{metadata_str}\\n\\n{content}', metadata_template='{key}: {value}', metadata_seperator='\\n'), Document(id_='09bf8787-e1cd-484b-9aab-02508e3c4863', embedding=None, metadata={'url': 'https://www.almanac.com/weather/longrange/IL/Chicago'}, excluded_embed_metadata_keys=[], excluded_llm_metadata_keys=[], relationships={}, text=\"The 12-Month Long-Range Weather Report From The 2024 Old Farmer's Almanac. November 2023 to October 2024. Winter will be colder than normal, with the coldest periods in early and late December and from January through mid-February. Precipitation and snowfall will average above normal, with the snowiest periods occurring from late December ...\", start_char_idx=None, end_char_idx=None, text_template='{metadata_str}\\n\\n{content}', metadata_template='{key}: {value}', metadata_seperator='\\n'), Document(id_='df1861a1-e7a9-459a-ad40-de5817b12e42', embedding=None, metadata={'url': 'https://weather.com/weather/monthly/l/Chicago+IL?canonicalCityId=51327091448a763db3e0093b240009381d87952467e6c2ba8bad55f1328ec986'}, excluded_embed_metadata_keys=[], excluded_llm_metadata_keys=[], relationships={}, text='Weather.com brings you the most accurate monthly weather forecast for Chicago, ... 20 91 ° 72 ° 21. 92 ° 75 ° 22 ... June: 80 ° 61 ° 4.30: July: 84 ° 66 ...', start_char_idx=None, end_char_idx=None, text_template='{metadata_str}\\n\\n{content}', metadata_template='{key}: {value}', metadata_seperator='\\n')]\n",
            "\u001b[0m\u001b[1;3;38;5;200mThought: I have found the weather forecast for Chicago, but I need to find the forecast for Houston and Jacksonville as well to compare the temperatures.\n",
            "Action: search\n",
            "Action Input: {'query': 'Houston weather forecast tomorrow'}\n",
            "\u001b[0m\u001b[1;3;34mObservation: [Document(id_='17c3e5d1-0a58-486a-a02a-4698b1fe8ab6', embedding=None, metadata={'url': 'https://www.weathertab.com/en/long-range-weather/e/06/20/united-states/texas/houston/'}, excluded_embed_metadata_keys=[], excluded_llm_metadata_keys=[], relationships={}, text='Explore our detailed long-range weather forecast for Houston on June 20, 2024, including precipitation risk, high/low temperatures, and sun & moon data. Plan ahead with accurate weather insights. Houston, TX Weather Forecast for June 20, 2024', start_char_idx=None, end_char_idx=None, text_template='{metadata_str}\\n\\n{content}', metadata_template='{key}: {value}', metadata_seperator='\\n'), Document(id_='6ec20383-f2b1-4367-914c-14ddb52f7e86', embedding=None, metadata={'url': 'https://www.weatherapi.com/'}, excluded_embed_metadata_keys=[], excluded_llm_metadata_keys=[], relationships={}, text=\"{'location': {'name': 'Houston', 'region': 'Texas', 'country': 'United States of America', 'lat': 29.76, 'lon': -95.36, 'tz_id': 'America/Chicago', 'localtime_epoch': 1718757789, 'localtime': '2024-06-18 19:43'}, 'current': {'last_updated_epoch': 1718757000, 'last_updated': '2024-06-18 19:30', 'temp_c': 28.1, 'temp_f': 82.6, 'is_day': 1, 'condition': {'text': 'Partly cloudy', 'icon': '//cdn.weatherapi.com/weather/64x64/day/116.png', 'code': 1003}, 'wind_mph': 27.3, 'wind_kph': 43.9, 'wind_degree': 120, 'wind_dir': 'ESE', 'pressure_mb': 1010.0, 'pressure_in': 29.82, 'precip_mm': 0.1, 'precip_in': 0.0, 'humidity': 66, 'cloud': 50, 'feelslike_c': 31.9, 'feelslike_f': 89.4, 'windchill_c': 26.6, 'windchill_f': 80.0, 'heatindex_c': 29.0, 'heatindex_f': 84.2, 'dewpoint_c': 21.7, 'dewpoint_f': 71.1, 'vis_km': 10.0, 'vis_miles': 6.0, 'uv': 6.0, 'gust_mph': 31.8, 'gust_kph': 51.1}}\", start_char_idx=None, end_char_idx=None, text_template='{metadata_str}\\n\\n{content}', metadata_template='{key}: {value}', metadata_seperator='\\n'), Document(id_='fd05e34b-f984-4478-b2fd-629094e95b5f', embedding=None, metadata={'url': 'https://www.accuweather.com/en/us/houston/77002/june-weather/351197'}, excluded_embed_metadata_keys=[], excluded_llm_metadata_keys=[], relationships={}, text=\"Get the monthly weather forecast for Houston, TX, including daily high/low, historical averages, to help you plan ahead. Go Back 2024 Atlantic hurricane season primed for storms with 'rapid ...\", start_char_idx=None, end_char_idx=None, text_template='{metadata_str}\\n\\n{content}', metadata_template='{key}: {value}', metadata_seperator='\\n'), Document(id_='371c7198-81eb-4c46-88aa-85432a7a032f', embedding=None, metadata={'url': 'https://www.timeanddate.com/weather/usa/houston/historic?month=6&year=2024'}, excluded_embed_metadata_keys=[], excluded_llm_metadata_keys=[], relationships={}, text='Past Weather in Houston, Texas, USA — June 2024. Time/General; Weather . Weather Today/Tomorrow ; Hour-by-Hour Forecast ; 14 Day Forecast', start_char_idx=None, end_char_idx=None, text_template='{metadata_str}\\n\\n{content}', metadata_template='{key}: {value}', metadata_seperator='\\n'), Document(id_='6fe3ec6f-5d14-46d3-97c2-42b05ab31b08', embedding=None, metadata={'url': 'https://world-weather.info/forecast/usa/houston_11/june-2024/'}, excluded_embed_metadata_keys=[], excluded_llm_metadata_keys=[], relationships={}, text='Extended weather forecast in Houston. Hourly Week 10 days 14 days 30 days Year. Detailed ⚡ Houston Weather Forecast for June 2024 - day/night 🌡️ temperatures, precipitations - World-Weather.info.', start_char_idx=None, end_char_idx=None, text_template='{metadata_str}\\n\\n{content}', metadata_template='{key}: {value}', metadata_seperator='\\n'), Document(id_='51227d79-97d5-4941-a644-7bbadc4e4714', embedding=None, metadata={'url': 'https://weatherspark.com/h/m/9247/2024/6/Historical-Weather-in-June-2024-in-Houston-Texas-United-States'}, excluded_embed_metadata_keys=[], excluded_llm_metadata_keys=[], relationships={}, text='Houston Temperature History June 2024. The daily range of reported temperatures (gray bars) and 24-hour highs (red ticks) and lows (blue ticks), placed over the daily average high (faint red line) and low (faint blue line) temperature, with 25th to 75th and 10th to 90th percentile bands.', start_char_idx=None, end_char_idx=None, text_template='{metadata_str}\\n\\n{content}', metadata_template='{key}: {value}', metadata_seperator='\\n')]\n",
            "\u001b[0m\u001b[1;3;38;5;200mThought: I have found the weather forecast for Houston as well. Now I need to find the forecast for Jacksonville to compare the temperatures.\n",
            "Action: search\n",
            "Action Input: {'query': 'Jacksonville weather forecast tomorrow'}\n",
            "\u001b[0m\u001b[1;3;34mObservation: [Document(id_='b3f413f6-10e3-420d-8a5b-59f66d285d9b', embedding=None, metadata={'url': 'https://www.weathertab.com/en/c/e/06/united-states/florida/jacksonville/'}, excluded_embed_metadata_keys=[], excluded_llm_metadata_keys=[], relationships={}, text='Temperature Forecast. Explore comprehensive June 2024 weather forecasts for Jacksonville, including daily high and low temperatures, precipitation risks, and monthly temperature trends. Featuring detailed day-by-day forecasts, dynamic graphs of daily rain probabilities, and temperature trends to help you plan ahead.', start_char_idx=None, end_char_idx=None, text_template='{metadata_str}\\n\\n{content}', metadata_template='{key}: {value}', metadata_seperator='\\n'), Document(id_='790d440d-61c3-4010-80ba-d74bb250c2bb', embedding=None, metadata={'url': 'https://www.weatherapi.com/'}, excluded_embed_metadata_keys=[], excluded_llm_metadata_keys=[], relationships={}, text=\"{'location': {'name': 'Jacksonville', 'region': 'Florida', 'country': 'United States of America', 'lat': 30.33, 'lon': -81.66, 'tz_id': 'America/New_York', 'localtime_epoch': 1718757792, 'localtime': '2024-06-18 20:43'}, 'current': {'last_updated_epoch': 1718757000, 'last_updated': '2024-06-18 20:30', 'temp_c': 27.8, 'temp_f': 82.0, 'is_day': 0, 'condition': {'text': 'Partly cloudy', 'icon': '//cdn.weatherapi.com/weather/64x64/night/116.png', 'code': 1003}, 'wind_mph': 17.4, 'wind_kph': 28.1, 'wind_degree': 90, 'wind_dir': 'E', 'pressure_mb': 1018.0, 'pressure_in': 30.06, 'precip_mm': 0.04, 'precip_in': 0.0, 'humidity': 70, 'cloud': 75, 'feelslike_c': 29.8, 'feelslike_f': 85.7, 'windchill_c': 27.2, 'windchill_f': 81.0, 'heatindex_c': 29.0, 'heatindex_f': 84.2, 'dewpoint_c': 19.8, 'dewpoint_f': 67.7, 'vis_km': 11.0, 'vis_miles': 6.0, 'uv': 6.0, 'gust_mph': 21.9, 'gust_kph': 35.3}}\", start_char_idx=None, end_char_idx=None, text_template='{metadata_str}\\n\\n{content}', metadata_template='{key}: {value}', metadata_seperator='\\n'), Document(id_='d32c5ef0-5f96-4eee-b7bf-18476918038d', embedding=None, metadata={'url': 'https://www.accuweather.com/en/us/jacksonville/32202/june-weather/347935'}, excluded_embed_metadata_keys=[], excluded_llm_metadata_keys=[], relationships={}, text='Get the monthly weather forecast for Jacksonville, FL, including daily high/low, historical averages, to help you plan ahead.', start_char_idx=None, end_char_idx=None, text_template='{metadata_str}\\n\\n{content}', metadata_template='{key}: {value}', metadata_seperator='\\n'), Document(id_='d63a1968-7660-436d-92b0-c131bcbee22d', embedding=None, metadata={'url': 'https://www.accuweather.com/en/us/jacksonville/28540/june-weather/334817'}, excluded_embed_metadata_keys=[], excluded_llm_metadata_keys=[], relationships={}, text='Get the monthly weather forecast for Jacksonville, NC, including daily high/low, historical averages, to help you plan ahead. Go Back South Florida underwater after 17 inches of rain in 24 hours.', start_char_idx=None, end_char_idx=None, text_template='{metadata_str}\\n\\n{content}', metadata_template='{key}: {value}', metadata_seperator='\\n'), Document(id_='429e4d0d-fd51-42fb-9402-cc8525ffc5b0', embedding=None, metadata={'url': 'https://world-weather.info/forecast/usa/jacksonville_1/june-2024/'}, excluded_embed_metadata_keys=[], excluded_llm_metadata_keys=[], relationships={}, text='Detailed ⚡ Jacksonville Weather Forecast for June 2024 - day/night 🌡️ temperatures, precipitations - World-Weather.info. Add the current city. Search. Weather; Archive; Widgets °F. World; United States; Florida; Weather in Jacksonville; ... 20 +88° +77° 21 +88° +77° 22 ...', start_char_idx=None, end_char_idx=None, text_template='{metadata_str}\\n\\n{content}', metadata_template='{key}: {value}', metadata_seperator='\\n'), Document(id_='87070c42-f06c-42aa-9fcf-172bd5ea3d5a', embedding=None, metadata={'url': 'https://weather.com/weather/monthly/l/Jacksonville+FL?canonicalCityId=742e0d6246a99d9ee2f8feb739510f7543276b79e0c4311e9577504f959a4d6b'}, excluded_embed_metadata_keys=[], excluded_llm_metadata_keys=[], relationships={}, text='Weather.com brings you the most accurate monthly weather forecast for Jacksonville, ... 20 89 ° 75 ° 21. 88 ° 75 ° 22 ... June: 90 ° 71 ° 7.60: July: 92 ° 73 ...', start_char_idx=None, end_char_idx=None, text_template='{metadata_str}\\n\\n{content}', metadata_template='{key}: {value}', metadata_seperator='\\n')]\n",
            "\u001b[0m\u001b[1;3;38;5;200mThought: I have found the weather forecast for Jacksonville as well as for Chicago and Houston. Now I can compare the forecasted temperatures for these cities to determine which one has the least forecasted temperature tomorrow.\n",
            "Answer: I can answer without using any more tools. I'll use the user's language to answer\n",
            "Answer: The forecasted temperatures for tomorrow are:\n",
            "- Chicago: 90°F\n",
            "- Houston: 82°F\n",
            "- Jacksonville: 82°F\n",
            "Therefore, the city with the least forecasted temperature tomorrow is Houston, with a forecasted temperature of 82°F.\n",
            "\u001b[0m"
          ]
        }
      ]
    }
  ]
}