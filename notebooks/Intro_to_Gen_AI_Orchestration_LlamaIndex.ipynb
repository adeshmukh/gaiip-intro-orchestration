{
  "nbformat": 4,
  "nbformat_minor": 0,
  "metadata": {
    "colab": {
      "provenance": []
    },
    "kernelspec": {
      "name": "python3",
      "display_name": "Python 3"
    },
    "language_info": {
      "name": "python"
    }
  },
  "cells": [
    {
      "cell_type": "markdown",
      "source": [
        "## Install libraries and set up keys"
      ],
      "metadata": {
        "id": "78LkVU3xDP04"
      }
    },
    {
      "cell_type": "code",
      "execution_count": 1,
      "metadata": {
        "id": "7ssQyYC2DFRn"
      },
      "outputs": [],
      "source": [
        "%%capture\n",
        "\n",
        "!pip install llama-index                         # llama-index core\n",
        "!pip install llama-index-llms-openai           # OpenAI bindings\n",
        "!pip install llama-index-llms-anthropic          # Anthropic bindings\n",
        "!pip install llama-index-embeddings-huggingface  # HuggingFace Embeddings\n",
        "\n",
        "!pip install google-search-results  # Serp API\n",
        "!pip install pypdf                  # Parse PDF docs\n",
        "!pip install sentence_transformers  # Embedding\n",
        "!pip install chromadb               # Vector DB"
      ]
    },
    {
      "cell_type": "code",
      "source": [
        "import os\n",
        "from google.colab import userdata\n",
        "\n",
        "os.environ['HF_TOKEN'] = userdata.get('HF_TOKEN')\n",
        "os.environ['SERPAPI_API_KEY'] = userdata.get('SERPAPI_API_KEY')\n",
        "os.environ['ANTHROPIC_API_KEY'] = userdata.get('ANTHROPIC_API_KEY')\n",
        "os.environ['OPENAI_API_KEY'] = userdata.get('OPENAI_API_KEY')"
      ],
      "metadata": {
        "id": "asrRY_gBE-ax"
      },
      "execution_count": 7,
      "outputs": []
    },
    {
      "cell_type": "code",
      "source": [
        "!rm -rf ./repo\n",
        "!git clone --depth 1 https://github.com/adeshmukh/gaiip-intro-orchestration.git ./repo"
      ],
      "metadata": {
        "colab": {
          "base_uri": "https://localhost:8080/"
        },
        "id": "vM29ogypFJNJ",
        "outputId": "2e7d20bd-e4a7-4cbe-c865-0af5923d4fab"
      },
      "execution_count": 3,
      "outputs": [
        {
          "output_type": "stream",
          "name": "stdout",
          "text": [
            "Cloning into './repo'...\n",
            "remote: Enumerating objects: 15, done.\u001b[K\n",
            "remote: Counting objects: 100% (15/15), done.\u001b[K\n",
            "remote: Compressing objects: 100% (14/14), done.\u001b[K\n",
            "remote: Total 15 (delta 1), reused 12 (delta 1), pack-reused 0\u001b[K\n",
            "Receiving objects: 100% (15/15), 632.62 KiB | 2.01 MiB/s, done.\n",
            "Resolving deltas: 100% (1/1), done.\n"
          ]
        }
      ]
    },
    {
      "cell_type": "markdown",
      "source": [
        "## Load PDFs in Vector DB"
      ],
      "metadata": {
        "id": "WvVhpqT6FO38"
      }
    },
    {
      "cell_type": "code",
      "source": [
        "%%capture\n",
        "\n",
        "from llama_index.core import (\n",
        "    SimpleDirectoryReader,\n",
        "    VectorStoreIndex,\n",
        "    StorageContext,\n",
        "    load_index_from_storage,\n",
        ")\n",
        "from llama_index.embeddings.huggingface import HuggingFaceEmbedding\n",
        "from llama_index.core.tools import QueryEngineTool, ToolMetadata\n",
        "\n",
        "# Ignore pypdf warnings\n",
        "import logging\n",
        "logging.getLogger(\"pypdf\").setLevel(logging.ERROR)\n",
        "\n",
        "# load data\n",
        "base_path = \"./repo/pdfs\"\n",
        "pdf_files = os.listdir(base_path)\n",
        "pdf_file_paths = [os.path.join(base_path, file) for file in pdf_files]\n",
        "\n",
        "docs = SimpleDirectoryReader(\n",
        "    input_files=pdf_file_paths\n",
        ").load_data()\n",
        "\n",
        "# build index\n",
        "from llama_index.core import Settings\n",
        "\n",
        "# embed_model = HuggingFaceEmbedding(model_name=\"sentence-transformers/all-MiniLM-L6-v2\")\n",
        "embed_model = HuggingFaceEmbedding(model_name=\"BAAI/bge-small-en-v1.5\")\n",
        "Settings.embed_model = embed_model\n",
        "pdf_index = VectorStoreIndex.from_documents(docs, show_progress=True)\n",
        "\n",
        "# persist index\n",
        "pdf_index.storage_context.persist(persist_dir=\"./storage/pdfs\")\n"
      ],
      "metadata": {
        "id": "OOHHaX8iX6J7"
      },
      "execution_count": 4,
      "outputs": []
    },
    {
      "cell_type": "code",
      "source": [
        "pdf_engine = pdf_index.as_query_engine(similarity_top_k=3)\n",
        "vector_db_tool = QueryEngineTool(\n",
        "        query_engine=pdf_engine,\n",
        "        metadata=ToolMetadata(\n",
        "            name=\"us_national_budget_fy24\",\n",
        "            description=(\n",
        "                \"Provides information about US national budget for the fiscal year 2024. \"\n",
        "                \"Use a detailed plain text question as input to the tool.\"\n",
        "            ),\n",
        "        ),\n",
        "    )"
      ],
      "metadata": {
        "id": "VIXD9YUyYyAK"
      },
      "execution_count": 8,
      "outputs": []
    },
    {
      "cell_type": "markdown",
      "source": [
        "## Zero-shot ReAct agent"
      ],
      "metadata": {
        "id": "h_ZVztUeFmEd"
      }
    },
    {
      "cell_type": "code",
      "source": [
        "from llama_index.core.agent import ReActAgent\n",
        "from llama_index.llms.openai import OpenAI\n",
        "from llama_index.llms.anthropic import Anthropic\n",
        "from llama_index.core.tools import BaseTool, FunctionTool"
      ],
      "metadata": {
        "id": "YSPLUXByFDxy"
      },
      "execution_count": 17,
      "outputs": []
    },
    {
      "cell_type": "code",
      "source": [
        "\n",
        "def multiply(a: float, b: float) -> int:\n",
        "    \"\"\"Multiply two numbers and returns the result number\"\"\"\n",
        "    return a * b\n",
        "\n",
        "def add(a: float, b: float) -> int:\n",
        "    \"\"\"Add two numbers and returns the result number\"\"\"\n",
        "    return a + b"
      ],
      "metadata": {
        "id": "WYKDSkYBT4kt"
      },
      "execution_count": 13,
      "outputs": []
    },
    {
      "cell_type": "code",
      "source": [
        "multiply_tool = FunctionTool.from_defaults(fn=multiply)\n",
        "add_tool = FunctionTool.from_defaults(fn=add)\n",
        "\n",
        "# llm = OpenAI(model=\"gpt-3.5-turbo-instruct\")\n",
        "llm = Anthropic(model='claude-3-opus-20240229')\n",
        "agent = ReActAgent.from_tools([multiply_tool, add_tool, vector_db_tool], llm=llm, verbose=True)"
      ],
      "metadata": {
        "id": "L7ZlHrFpWupC"
      },
      "execution_count": 18,
      "outputs": []
    },
    {
      "cell_type": "code",
      "source": [
        "response = agent.chat(\"What is the total requested budget for NASA and NSF for Fiscal Year 2024?\")"
      ],
      "metadata": {
        "colab": {
          "base_uri": "https://localhost:8080/"
        },
        "id": "SJgoOrzpXIUB",
        "outputId": "c9af1299-b2ca-4ffb-ad74-801a0da120c0"
      },
      "execution_count": 19,
      "outputs": [
        {
          "output_type": "stream",
          "name": "stdout",
          "text": [
            "\u001b[1;3;38;5;200mThought: The current language of the user is: English. I need to use a tool to help me answer the question.\n",
            "Action: us_national_budget_fy24\n",
            "Action Input: {'input': 'What is the total requested budget for NASA and NSF for Fiscal Year 2024?'}\n",
            "\u001b[0m\u001b[1;3;34mObservation: The total requested budget for NASA for Fiscal Year 2024 is $27.2 billion, while the total requested budget for NSF for Fiscal Year 2024 is $11.3 billion.\n",
            "\u001b[0m\u001b[1;3;38;5;200mThought: I have the NASA and NSF budget numbers, but to answer the question I need to add them together to get the total.\n",
            "Action: add\n",
            "Action Input: {'a': 27.2, 'b': 11.3}\n",
            "\u001b[0m\u001b[1;3;34mObservation: 38.5\n",
            "\u001b[0m\u001b[1;3;38;5;200mThought: I can answer without using any more tools. I'll use the user's language to answer\n",
            "Answer: The total requested budget for NASA and NSF combined for Fiscal Year 2024 is $38.5 billion. NASA's requested budget is $27.2 billion and NSF's requested budget is $11.3 billion, which adds up to a total of $38.5 billion.\n",
            "\u001b[0m"
          ]
        }
      ]
    },
    {
      "cell_type": "code",
      "source": [],
      "metadata": {
        "id": "gviocQiNXSKa"
      },
      "execution_count": null,
      "outputs": []
    }
  ]
}